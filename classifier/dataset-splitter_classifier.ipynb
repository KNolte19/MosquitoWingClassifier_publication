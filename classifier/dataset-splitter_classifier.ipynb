{
 "cells": [
  {
   "cell_type": "code",
   "execution_count": null,
   "metadata": {},
   "outputs": [],
   "source": [
    "import os\n",
    "import sys\n",
    "\n",
    "import numpy as np\n",
    "import pandas as pd\n",
    "\n",
    "sys.path.append(\"..\")\n",
    "from utils.BALROG_pipeline import ROOTPATH"
   ]
  },
  {
   "cell_type": "code",
   "execution_count": 2,
   "metadata": {},
   "outputs": [],
   "source": [
    "df = pd.read_pickle(os.path.join(ROOTPATH, \"utils\", \"references\", \"database_reference.pkl\"))\n",
    "# Remove all images that are not of the class \"F\" (female) and that do not have a damaged wing\n",
    "df = df.loc[df[\"Sex\"] == \"F\"]\n",
    "df = df.loc[df[\"Damaged Wing\"] == False]"
   ]
  },
  {
   "cell_type": "code",
   "execution_count": 3,
   "metadata": {},
   "outputs": [],
   "source": [
    "# Define the classification labels\n",
    "# Chose taxonimoc level 3 if not \"-\" else chose taxonomic level 4\n",
    "df[\"LABEL\"] = df[\"3. Taxonomic Level\"]\n",
    "df.loc[df[\"LABEL\"] == \"-\", \"LABEL\"] = df.loc[df[\"LABEL\"] == \"-\", \"4. Taxonomic Level\"]\n",
    "\n",
    "# If there are less than 75 images of a certain class, change the label to \"Other\"\n",
    "counts = df[\"LABEL\"].value_counts()\n",
    "df.loc[df[\"LABEL\"].isin(counts[counts <= 80].index), \"LABEL\"] = \"other\""
   ]
  },
  {
   "cell_type": "code",
   "execution_count": 4,
   "metadata": {},
   "outputs": [],
   "source": [
    "# Number of folds\n",
    "n_splits = 6\n",
    "# Fixed seed for reproducibility\n",
    "seed = 42  \n",
    "\n",
    "# Initialize the fold column\n",
    "df[\"TESTING FOLD\"] = np.nan\n",
    "\n",
    "# Group data by \"Specimen ID\" and \"LABEL\" to ensure samples of the same specimen stay together\n",
    "specimen_grouped = df.groupby(\"Specimen ID\").first().reset_index()\n",
    "\n",
    "# Create a list of indices for each label group\n",
    "label_groups = specimen_grouped.groupby(\"LABEL\")\n",
    "\n",
    "# Create an empty dictionary to hold fold indices\n",
    "folds = {i: [] for i in range(n_splits)}\n",
    "\n",
    "# Create a random number generator with a fixed seed\n",
    "rng = np.random.default_rng(seed)\n",
    "\n",
    "# For each label group, assign specimens to folds\n",
    "for label, group in label_groups:\n",
    "    indices = group.index.tolist()  # Get indices of specimens\n",
    "    rng.shuffle(indices)  # Shuffle indices for randomness (seeded)\n",
    "    splits = np.array_split(indices, n_splits)  # Split indices into roughly equal-sized folds\n",
    "    \n",
    "    # Assign each split to a fold\n",
    "    for i, split in enumerate(splits):\n",
    "        folds[i].extend(split)\n",
    "\n",
    "# Map specimens back to their samples\n",
    "specimen_to_fold = {}\n",
    "for fold_idx, specimen_indices in folds.items():\n",
    "    for specimen_index in specimen_indices:\n",
    "        specimen_to_fold[specimen_grouped.loc[specimen_index, \"Specimen ID\"]] = fold_idx\n",
    "\n",
    "# Assign fold numbers to the main dataframe\n",
    "df[\"TESTING FOLD\"] = df[\"Specimen ID\"].map(specimen_to_fold)"
   ]
  },
  {
   "cell_type": "code",
   "execution_count": 5,
   "metadata": {},
   "outputs": [],
   "source": [
    "# Wings which were used in the feasibility study\n",
    "feasibility_wings = ['353f52c84025', '83e6e6418abf', '97ac6879392b', '4bd749e4ebd7',\n",
    "       '9935c9ea8bbe', '8c6bd98c8b8b', '21b4542bda0f', '220ac0b60d8e',\n",
    "       'df3c55c46235', '262a2c604633', '79d27f4ea625', 'd85a28add3f5',\n",
    "       '5884e9a765c0', '569ef178a8d7', 'bdc9c377f98b', '1425b0581c09',\n",
    "       'ff1a213aaea7', '75f9411760b2', '68f20aa38179', 'a3b9df5d29e4',\n",
    "       'dc438aeecc9c', '2438a719beed', '8318585f57d1', 'ead4ce4a6350',\n",
    "       'f6a602f7aacc', '98b991a4f708', 'dff976bcfa46', '71a566ef1e3f',\n",
    "       'c1408357130e', '2eb915fbb22d', '719077c0e9a2', '2ec1d44eedcc',\n",
    "       'ec422efeda41', 'd4d8bb6391bc', '6d8426ae04b6', '9aef0e83de27',\n",
    "       '7fe3ec219cbd', 'd7e7ad8334e6', '6f51c34925af', 'ec37402d465a',\n",
    "       '34abe4ae4b3b', 'fed84692b879', '005ed08e818f', 'dafe6e862994',\n",
    "       '6dcdd0b9158a', '17f2c6d9da9d', '8b7c9e016e87', 'ea3cd239e227',\n",
    "       'fb9a64ead7b8', 'a2b12296e17f', 'a139178bca77', 'c647fca63ee6',\n",
    "       '26f4c6b4db03', 'fab98f144073', '67fa3ea97980', 'be13f4704c95',\n",
    "       'e20799179c6a', '6598e7afca70', 'd8560f8a25de', 'df6778597799',\n",
    "       'f5a2e4dc9333', '24acd9682a77', '490ef4cdd5e7', '661d083772bd',\n",
    "       '1af3637c8869', '0bd625e52e5e', '58ed4c8e8db7', 'e3bcb777f7ae',\n",
    "       '4245e63c104c', 'b9ad9219df22', '08358a71c6a1', '4f77a1d04154',\n",
    "       'e45c8cb021ed', '11b77d4957ad', '10e380da7a12']\n",
    "\n",
    "# Leave out the samples which are used in the feasibility study\n",
    "df.loc[df[\"Image ID\"].isin(feasibility_wings), \"TESTING FOLD\"] = -1 "
   ]
  },
  {
   "cell_type": "code",
   "execution_count": 6,
   "metadata": {},
   "outputs": [
    {
     "data": {
      "text/plain": [
       "TESTING FOLD\n",
       " 4    2492\n",
       " 0    2490\n",
       " 2    2486\n",
       " 1    2469\n",
       " 3    2439\n",
       " 5    2437\n",
       "-1      75\n",
       "Name: count, dtype: int64"
      ]
     },
     "execution_count": 6,
     "metadata": {},
     "output_type": "execute_result"
    }
   ],
   "source": [
    "# Explore dataset\n",
    "df[\"TESTING FOLD\"].value_counts()"
   ]
  },
  {
   "cell_type": "code",
   "execution_count": 7,
   "metadata": {},
   "outputs": [
    {
     "name": "stdout",
     "output_type": "stream",
     "text": [
      "True\n",
      "True\n",
      "True\n",
      "True\n",
      "True\n",
      "True\n",
      "True\n",
      "True\n",
      "True\n",
      "True\n",
      "True\n",
      "True\n",
      "True\n",
      "True\n",
      "True\n"
     ]
    }
   ],
   "source": [
    "# Check wether folds contain duplicates between them (False = duplicate)\n",
    "for i in range(n_splits):\n",
    "    for j in range(i+1, n_splits):\n",
    "         print(len(set(folds[i]) & set(folds[j])) == 0)"
   ]
  },
  {
   "cell_type": "code",
   "execution_count": 8,
   "metadata": {},
   "outputs": [],
   "source": [
    "#df.to_pickle(os.path.join(ROOTPATH, \"utils\", \"references\", \"database_reference_MLREADY.pkl\"))"
   ]
  }
 ],
 "metadata": {
  "kernelspec": {
   "display_name": "mosq",
   "language": "python",
   "name": "python3"
  },
  "language_info": {
   "codemirror_mode": {
    "name": "ipython",
    "version": 3
   },
   "file_extension": ".py",
   "mimetype": "text/x-python",
   "name": "python",
   "nbconvert_exporter": "python",
   "pygments_lexer": "ipython3",
   "version": "3.13.1"
  }
 },
 "nbformat": 4,
 "nbformat_minor": 2
}

{
 "cells": [
  {
   "cell_type": "code",
   "execution_count": null,
   "metadata": {},
   "outputs": [],
   "source": [
    "import torch\n",
    "import os\n",
    "import numpy as np\n",
    "import pandas as pd\n",
    "import skimage as ski\n",
    "import torchvision.transforms as transforms\n",
    "\n",
    "from sklearn.preprocessing import OneHotEncoder\n",
    "from torch.utils.data import Dataset, DataLoader"
   ]
  },
  {
   "cell_type": "code",
   "execution_count": 59,
   "metadata": {},
   "outputs": [
    {
     "name": "stdout",
     "output_type": "stream",
     "text": [
      "Using mps device\n"
     ]
    }
   ],
   "source": [
    "# Get cpu, gpu or mps device for training.\n",
    "device = (\n",
    "    \"cuda\"\n",
    "    if torch.cuda.is_available()\n",
    "    else \"mps\"\n",
    "    if torch.backends.mps.is_available()\n",
    "    else \"cpu\"\n",
    ")\n",
    "print(f\"Using {device} device\")"
   ]
  },
  {
   "cell_type": "code",
   "execution_count": 60,
   "metadata": {},
   "outputs": [],
   "source": [
    "# Load the Dataset\n",
    "path = \"\"\n",
    "file_list = np.load(path + \"data/mos_dataset_processed.npy\")\n",
    "label_list = np.load(path + \"data/mos_dataset_labels.npy\")\n",
    "fold_list = np.load(path + \"data/mos_dataset_folds.npy\")\n",
    "path_list = np.load(path +\"data/mos_dataset_paths.npy\")"
   ]
  },
  {
   "cell_type": "code",
   "execution_count": 5,
   "metadata": {},
   "outputs": [
    {
     "name": "stderr",
     "output_type": "stream",
     "text": [
      "/var/folders/zq/vkd6f9tx4gdctwbs4b3j895w0000gn/T/ipykernel_85964/4205368046.py:6: FutureWarning: You are using `torch.load` with `weights_only=False` (the current default value), which uses the default pickle module implicitly. It is possible to construct malicious pickle data which will execute arbitrary code during unpickling (See https://github.com/pytorch/pytorch/blob/main/SECURITY.md#untrusted-models for more details). In a future release, the default value for `weights_only` will be flipped to `True`. This limits the functions that could be executed during unpickling. Arbitrary objects will no longer be allowed to be loaded via this mode unless they are explicitly allowlisted by the user via `torch.serialization.add_safe_globals`. We recommend you start setting `weights_only=True` for any use case where you don't have full control of the loaded file. Please open an issue on GitHub for any issues related to this experimental feature.\n",
      "  model_dict[FOLD] = torch.load(\"models/final_models/\" + file, map_location=torch.device('cpu'))\n"
     ]
    }
   ],
   "source": [
    "# Load the Models\n",
    "model_dict = {}\n",
    "for file in os.listdir(\"models/final_models\"):\n",
    "    if file.endswith(\".pt\"):\n",
    "        FOLD = file.split(\"_\")[1]\n",
    "        model_dict[FOLD] = torch.load(\"models/final_models/\" + file, map_location=torch.device('cpu'))"
   ]
  },
  {
   "cell_type": "code",
   "execution_count": null,
   "metadata": {},
   "outputs": [],
   "source": [
    "# Copy the DataLoader from the trainer\n",
    "class CustomDataset(Dataset):\n",
    "    def __init__(self, file_list, label_list,\n",
    "                input_transforms,\n",
    "                color_transforms=None,\n",
    "                geo_transforms=None):\n",
    "\n",
    "        # Initialize the list of files and labels\n",
    "        self.file_list = file_list\n",
    "        self.label_list = label_list\n",
    "        self.input_transforms = input_transforms\n",
    "        self.color_transforms = color_transforms\n",
    "        self.geo_transforms = geo_transforms\n",
    "\n",
    "\n",
    "    def __len__(self):\n",
    "        return len(self.file_list)\n",
    "\n",
    "    def CLAHE_transform(self, image):\n",
    "            # redice dimension\n",
    "            image = torch.mean(image, dim=0).numpy()\n",
    "            # apply CLAHE\n",
    "            equalized_img = ski.exposure.equalize_adapthist(image, clip_limit=.5, nbins=32) # prevous was clip=.6, nbins=48\n",
    "            # Use mediean filter to reduce noise\n",
    "            equalized_img = ski.filters.median(equalized_img, ski.morphology.disk(2))\n",
    "\n",
    "            return torch.tensor(equalized_img, dtype=torch.float32)\n",
    "\n",
    "    def __getitem__(self, idx):\n",
    "        # Get image and mask\n",
    "        file = self.file_list[idx]\n",
    "        input = file[:,:,:3] / 255\n",
    "        mask = file[:,:,3] > 0\n",
    "\n",
    "        # Get label\n",
    "        output = self.label_list[idx]\n",
    "\n",
    "        # Apply Albumentations color transforms\n",
    "        if self.color_transforms is not None:\n",
    "            input = self.color_transforms(image=input.astype('float32'))[\"image\"]\n",
    "\n",
    "        # Apply transforms\n",
    "        input = self.input_transforms(input)\n",
    "        mask = self.input_transforms(mask)\n",
    "\n",
    "        # Apply CLAHE equalization\n",
    "        input = self.CLAHE_transform(input)\n",
    "\n",
    "        # set all values outside the mask to 0\n",
    "        input[~mask.squeeze(0)] = 0\n",
    "        input = input.unsqueeze(0)\n",
    "\n",
    "        # Apply geometric transforms\n",
    "        if self.geo_transforms is not None:\n",
    "            input = self.geo_transforms(input)\n",
    "\n",
    "        return (input, output)"
   ]
  },
  {
   "cell_type": "code",
   "execution_count": null,
   "metadata": {},
   "outputs": [],
   "source": [
    "def get_dataset_split(FOLD):\n",
    "    oh_encoder = OneHotEncoder()\n",
    "    oh_label_list = oh_encoder.fit_transform(label_list.reshape(-1,1)).toarray().astype(np.uint8)\n",
    "\n",
    "    # Split the dataset into train and test based on fold\n",
    "    test_file_list = file_list[(fold_list == FOLD) & (fold_list != -1)]\n",
    "    test_label_list = oh_label_list[(fold_list == FOLD) & (fold_list != -1)]\n",
    "    test_path_list = path_list[(fold_list == FOLD) & (fold_list != -1)]\n",
    "\n",
    "    return test_file_list, test_label_list, test_path_list, oh_encoder\n",
    "\n",
    "def evaluation(dataloader, model):\n",
    "    predictions = []\n",
    "    targets = []\n",
    "    with torch.no_grad():\n",
    "        for batch, (X, y) in enumerate(dataloader):\n",
    "                # Compute prediction and loss\n",
    "                X = X.to(device)\n",
    "                y = y.to(device)\n",
    "\n",
    "                pred = model(X)\n",
    "\n",
    "                predictions.append(pred.cpu().detach().numpy())\n",
    "                targets.append(y.cpu().detach().numpy())\n",
    "\n",
    "    return np.concatenate(predictions), np.concatenate(targets)"
   ]
  },
  {
   "cell_type": "code",
   "execution_count": null,
   "metadata": {},
   "outputs": [],
   "source": [
    "image_height, image_width = 192, 384\n",
    "batch_size = 32\n",
    "\n",
    "for FOLD in range(5):\n",
    "    FOLD += 1\n",
    "\n",
    "    # Get the file list and label list for the test set\n",
    "    test_file_list, test_label_list, test_path_list, oh_encoder = get_dataset_split(FOLD)\n",
    "\n",
    "    # Define the transformations\n",
    "    input_trans = transforms.Compose([transforms.ToTensor(), transforms.Resize((image_height, image_width))])\n",
    "\n",
    "    # Create an instance of the CustomDataset\n",
    "    test_dataset = CustomDataset(test_file_list, test_label_list, input_trans)\n",
    "\n",
    "    # Create a DataLoader for the dataset\n",
    "    test_dataloader = DataLoader(test_dataset, batch_size=batch_size)\n",
    "\n",
    "    # Get the model to device\n",
    "    model = model_dict[str(FOLD)].to(device)\n",
    "    # Get feature extractor from the model\n",
    "    feature_extractor = torch.nn.Sequential(*list(model.children())[:-1])\n",
    "\n",
    "    # Evaluate the model\n",
    "    predictions, targets = evaluation(test_dataloader, model)\n",
    "    feature_maps, _ = evaluation(test_dataloader, feature_extractor)\n",
    "\n",
    "    test_df = pd.DataFrame()\n",
    "    test_df[\"PATH\"] = test_path_list\n",
    "    test_df[\"PRED\"] = oh_encoder.inverse_transform(predictions).ravel()\n",
    "    test_df[\"PRED%\"] = np.max(predictions, axis=1)\n",
    "    test_df[\"TARGET\"] = oh_encoder.inverse_transform(targets).ravel()\n",
    "\n",
    "    pd.to_pickle(test_df, path + \"results/final_models/test_df_{}.pkl\".format(FOLD))\n",
    "    np.save(path + \"results/final_models/feature_maps_{}.npy\".format(FOLD), np.asarray(feature_maps))"
   ]
  }
 ],
 "metadata": {
  "kernelspec": {
   "display_name": "pytorch",
   "language": "python",
   "name": "python3"
  },
  "language_info": {
   "codemirror_mode": {
    "name": "ipython",
    "version": 3
   },
   "file_extension": ".py",
   "mimetype": "text/x-python",
   "name": "python",
   "nbconvert_exporter": "python",
   "pygments_lexer": "ipython3",
   "version": "3.10.12"
  }
 },
 "nbformat": 4,
 "nbformat_minor": 2
}

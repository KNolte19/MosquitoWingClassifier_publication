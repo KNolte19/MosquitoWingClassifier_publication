{
 "cells": [
  {
   "cell_type": "markdown",
   "id": "c0fc8d14",
   "metadata": {},
   "source": [
    "### Description\n",
    "\n",
    "This script loads and summarizes pre-processed reference datasets used in machine learning experiments.\n",
    "It outputs grouped counts of class labels by **testing fold** and **device** for three different experiments:\n",
    "\n",
    "* `\"Bias\"` - Models were trained on a biased dataset were species and imaging device were associated.\n",
    "\n",
    "* `\"TrainOlymp\"` - Models were trained on the Olmypus Microscope and then tested on a test set and Phone images.\n",
    "\n",
    "* `\"TrainPhone\"` - Models were trained on the Phone and then tested on a test set and Microscope images.\n",
    "\n",
    "### Input\n",
    "\n",
    "* Pickle files named:\n",
    "  `database_reference_MLREADY_<experiment>.pkl`\n",
    "  (where `<experiment>` is one of the options above)\n",
    "\n",
    "* Files should be located in: `utils/references/`\n",
    "\n",
    "* Requires a `config.py` file in `utils/` that defines the `ROOT` project path variable.\n",
    "\n",
    "### Output\n",
    "\n",
    "* Prints a table of label counts grouped by:\n",
    "\n",
    "  * `TESTING FOLD`\n",
    "  * `Device`\n",
    "\n",
    "### Usage Notes\n",
    "\n",
    "* Change the `experiment` variable in the script to switch between datasets.\n"
   ]
  },
  {
   "cell_type": "code",
   "execution_count": 2,
   "id": "8d40e56a",
   "metadata": {},
   "outputs": [],
   "source": [
    "import pandas as pd \n",
    "import os\n",
    "\n",
    "# Set the working directory\n",
    "os.chdir(\"..\")\n",
    "from utils.config import ROOT\n",
    "os.chdir(ROOT)"
   ]
  },
  {
   "cell_type": "code",
   "execution_count": 3,
   "id": "ef580b23",
   "metadata": {},
   "outputs": [
    {
     "data": {
      "text/plain": [
       "TESTING FOLD  Device                       LABEL     \n",
       "-1            macrolens + iphone se        aegypti       386\n",
       "                                           koreicus      368\n",
       "              olympus sz61 + olympus dp23  japonicus     380\n",
       "                                           albopictus    373\n",
       " 0            macrolens + iphone se        japonicus      79\n",
       "                                           albopictus     76\n",
       "              olympus sz61 + olympus dp23  aegypti        80\n",
       "                                           koreicus       76\n",
       " 1            macrolens + iphone se        japonicus      77\n",
       "                                           albopictus     76\n",
       "              olympus sz61 + olympus dp23  koreicus       77\n",
       "                                           aegypti        77\n",
       " 2            macrolens + iphone se        albopictus     75\n",
       "                                           japonicus      75\n",
       "              olympus sz61 + olympus dp23  aegypti        78\n",
       "                                           koreicus       72\n",
       " 3            macrolens + iphone se        albopictus     72\n",
       "                                           japonicus      71\n",
       "              olympus sz61 + olympus dp23  aegypti        79\n",
       "                                           koreicus       76\n",
       " 4            macrolens + iphone se        japonicus      76\n",
       "                                           albopictus     75\n",
       "              olympus sz61 + olympus dp23  aegypti        80\n",
       "                                           koreicus       73\n",
       "Name: count, dtype: int64"
      ]
     },
     "execution_count": 3,
     "metadata": {},
     "output_type": "execute_result"
    }
   ],
   "source": [
    "experiment = \"Bias\" # \"Bias\", \"TrainOlymp\", \"TrainPhone\"\n",
    "df_ref = pd.read_pickle(os.path.join(\"utils\", \"references\", \"database_reference_MLREADY_{}.pkl\".format(experiment)))\n",
    "df_ref.groupby([\"TESTING FOLD\", \"Device\"])[\"LABEL\"].value_counts()"
   ]
  },
  {
   "cell_type": "code",
   "execution_count": 4,
   "id": "d62c395c",
   "metadata": {},
   "outputs": [
    {
     "data": {
      "text/plain": [
       "TESTING FOLD  Device                       LABEL     \n",
       "-1            macrolens + iphone se        aegypti       386\n",
       "                                           japonicus     378\n",
       "                                           albopictus    374\n",
       "                                           koreicus      368\n",
       " 0            olympus sz61 + olympus dp23  aegypti        80\n",
       "                                           japonicus      77\n",
       "                                           albopictus     77\n",
       "                                           koreicus       76\n",
       " 1            olympus sz61 + olympus dp23  japonicus      78\n",
       "                                           aegypti        77\n",
       "                                           koreicus       77\n",
       "                                           albopictus     76\n",
       " 2            olympus sz61 + olympus dp23  aegypti        78\n",
       "                                           albopictus     76\n",
       "                                           japonicus      75\n",
       "                                           koreicus       72\n",
       " 3            olympus sz61 + olympus dp23  aegypti        79\n",
       "                                           koreicus       76\n",
       "                                           japonicus      73\n",
       "                                           albopictus     71\n",
       " 4            olympus sz61 + olympus dp23  aegypti        80\n",
       "                                           japonicus      77\n",
       "                                           albopictus     73\n",
       "                                           koreicus       73\n",
       "Name: count, dtype: int64"
      ]
     },
     "execution_count": 4,
     "metadata": {},
     "output_type": "execute_result"
    }
   ],
   "source": [
    "experiment = \"TrainOlymp\" # \"Bias\", \"TrainOlymp\", \"TrainPhone\"\n",
    "df_ref = pd.read_pickle(os.path.join(\"utils\", \"references\", \"database_reference_MLREADY_{}.pkl\".format(experiment)))\n",
    "df_ref.groupby([\"TESTING FOLD\", \"Device\"])[\"LABEL\"].value_counts()"
   ]
  },
  {
   "cell_type": "code",
   "execution_count": 5,
   "id": "4893fb5e",
   "metadata": {},
   "outputs": [
    {
     "data": {
      "text/plain": [
       "TESTING FOLD  Device                       LABEL     \n",
       "-1            olympus sz61 + olympus dp23  aegypti       394\n",
       "                                           japonicus     380\n",
       "                                           koreicus      374\n",
       "                                           albopictus    373\n",
       " 0            macrolens + iphone se        aegypti        79\n",
       "                                           japonicus      79\n",
       "                                           koreicus       77\n",
       "                                           albopictus     76\n",
       " 1            macrolens + iphone se        japonicus      77\n",
       "                                           koreicus       77\n",
       "                                           albopictus     76\n",
       "                                           aegypti        75\n",
       " 2            macrolens + iphone se        aegypti        77\n",
       "                                           albopictus     75\n",
       "                                           japonicus      75\n",
       "                                           koreicus       71\n",
       " 3            macrolens + iphone se        aegypti        78\n",
       "                                           koreicus       74\n",
       "                                           albopictus     72\n",
       "                                           japonicus      71\n",
       " 4            macrolens + iphone se        aegypti        77\n",
       "                                           japonicus      76\n",
       "                                           albopictus     75\n",
       "                                           koreicus       69\n",
       "Name: count, dtype: int64"
      ]
     },
     "execution_count": 5,
     "metadata": {},
     "output_type": "execute_result"
    }
   ],
   "source": [
    "experiment = \"TrainPhone\" # \"Bias\", \"TrainOlymp\", \"TrainPhone\"\n",
    "df_ref = pd.read_pickle(os.path.join(\"utils\", \"references\", \"database_reference_MLREADY_{}.pkl\".format(experiment)))\n",
    "df_ref.groupby([\"TESTING FOLD\", \"Device\"])[\"LABEL\"].value_counts()"
   ]
  },
  {
   "cell_type": "code",
   "execution_count": null,
   "id": "b41942e7",
   "metadata": {},
   "outputs": [],
   "source": []
  }
 ],
 "metadata": {
  "kernelspec": {
   "display_name": "pytorch_v2",
   "language": "python",
   "name": "pytorch_v2"
  },
  "language_info": {
   "codemirror_mode": {
    "name": "ipython",
    "version": 3
   },
   "file_extension": ".py",
   "mimetype": "text/x-python",
   "name": "python",
   "nbconvert_exporter": "python",
   "pygments_lexer": "ipython3",
   "version": "3.10.12"
  }
 },
 "nbformat": 4,
 "nbformat_minor": 5
}

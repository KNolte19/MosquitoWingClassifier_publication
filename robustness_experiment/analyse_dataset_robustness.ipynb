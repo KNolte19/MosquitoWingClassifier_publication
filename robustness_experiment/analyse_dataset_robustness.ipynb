{
 "cells": [
  {
   "cell_type": "code",
   "execution_count": 2,
   "id": "8d40e56a",
   "metadata": {},
   "outputs": [],
   "source": [
    "import pandas as pd \n",
    "import numpy as np\n",
    "import os\n",
    "import matplotlib.pyplot as plt\n",
    "import seaborn as sb\n",
    "\n",
    "# Set the working directory\n",
    "os.chdir(\"..\")\n",
    "from utils.config import ROOT\n",
    "os.chdir(ROOT)"
   ]
  },
  {
   "cell_type": "code",
   "execution_count": 21,
   "id": "ef580b23",
   "metadata": {},
   "outputs": [
    {
     "data": {
      "text/plain": [
       "TESTING FOLD  Device                       LABEL     \n",
       "-1            macrolens + iphone se        aegypti       386\n",
       "                                           koreicus      368\n",
       "              olympus sz61 + olympus dp23  japonicus     380\n",
       "                                           albopictus    373\n",
       " 0            macrolens + iphone se        japonicus      79\n",
       "                                           albopictus     76\n",
       "              olympus sz61 + olympus dp23  aegypti        80\n",
       "                                           koreicus       76\n",
       " 1            macrolens + iphone se        japonicus      77\n",
       "                                           albopictus     76\n",
       "              olympus sz61 + olympus dp23  koreicus       77\n",
       "                                           aegypti        77\n",
       " 2            macrolens + iphone se        albopictus     75\n",
       "                                           japonicus      75\n",
       "              olympus sz61 + olympus dp23  aegypti        78\n",
       "                                           koreicus       72\n",
       " 3            macrolens + iphone se        albopictus     72\n",
       "                                           japonicus      71\n",
       "              olympus sz61 + olympus dp23  aegypti        79\n",
       "                                           koreicus       76\n",
       " 4            macrolens + iphone se        japonicus      76\n",
       "                                           albopictus     75\n",
       "              olympus sz61 + olympus dp23  aegypti        80\n",
       "                                           koreicus       73\n",
       "Name: count, dtype: int64"
      ]
     },
     "execution_count": 21,
     "metadata": {},
     "output_type": "execute_result"
    }
   ],
   "source": [
    "experiment = \"Bias\" # \"Bias\", \"TrainOlymp\", \"TrainPhone\"\n",
    "df_ref = pd.read_pickle(os.path.join(\"utils\", \"references\", \"database_reference_MLREADY_{}.pkl\".format(experiment)))\n",
    "df_ref.groupby([\"TESTING FOLD\", \"Device\"])[\"LABEL\"].value_counts()"
   ]
  },
  {
   "cell_type": "code",
   "execution_count": 24,
   "id": "d62c395c",
   "metadata": {},
   "outputs": [
    {
     "data": {
      "text/plain": [
       "TESTING FOLD  Device                       LABEL     \n",
       "-1            macrolens + iphone se        aegypti       386\n",
       "                                           japonicus     378\n",
       "                                           albopictus    374\n",
       "                                           koreicus      368\n",
       " 0            olympus sz61 + olympus dp23  aegypti        80\n",
       "                                           japonicus      77\n",
       "                                           albopictus     77\n",
       "                                           koreicus       76\n",
       " 1            olympus sz61 + olympus dp23  japonicus      78\n",
       "                                           aegypti        77\n",
       "                                           koreicus       77\n",
       "                                           albopictus     76\n",
       " 2            olympus sz61 + olympus dp23  aegypti        78\n",
       "                                           albopictus     76\n",
       "                                           japonicus      75\n",
       "                                           koreicus       72\n",
       " 3            olympus sz61 + olympus dp23  aegypti        79\n",
       "                                           koreicus       76\n",
       "                                           japonicus      73\n",
       "                                           albopictus     71\n",
       " 4            olympus sz61 + olympus dp23  aegypti        80\n",
       "                                           japonicus      77\n",
       "                                           albopictus     73\n",
       "                                           koreicus       73\n",
       "Name: count, dtype: int64"
      ]
     },
     "execution_count": 24,
     "metadata": {},
     "output_type": "execute_result"
    }
   ],
   "source": [
    "experiment = \"TrainOlymp\" # \"Bias\", \"TrainOlymp\", \"TrainPhone\"\n",
    "df_ref = pd.read_pickle(os.path.join(\"utils\", \"references\", \"database_reference_MLREADY_{}.pkl\".format(experiment)))\n",
    "df_ref.groupby([\"TESTING FOLD\", \"Device\"])[\"LABEL\"].value_counts()"
   ]
  },
  {
   "cell_type": "code",
   "execution_count": 27,
   "id": "4893fb5e",
   "metadata": {},
   "outputs": [],
   "source": [
    "experiment = \"TrainPhone\" # \"Bias\", \"TrainOlymp\", \"TrainPhone\"\n",
    "df_ref = pd.read_pickle(os.path.join(\"utils\", \"references\", \"database_reference_MLREADY_{}.pkl\".format(experiment)))\n",
    "df_ref.groupby([\"TESTING FOLD\", \"Device\"])[\"LABEL\"].value_counts().to_clipboard()"
   ]
  }
 ],
 "metadata": {
  "kernelspec": {
   "display_name": "pytorch_v2",
   "language": "python",
   "name": "pytorch_v2"
  },
  "language_info": {
   "codemirror_mode": {
    "name": "ipython",
    "version": 3
   },
   "file_extension": ".py",
   "mimetype": "text/x-python",
   "name": "python",
   "nbconvert_exporter": "python",
   "pygments_lexer": "ipython3",
   "version": "3.10.12"
  }
 },
 "nbformat": 4,
 "nbformat_minor": 5
}

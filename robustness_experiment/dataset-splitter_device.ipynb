{
 "cells": [
  {
   "cell_type": "code",
   "execution_count": 1,
   "metadata": {},
   "outputs": [],
   "source": [
    "import os \n",
    "import sys\n",
    "\n",
    "import numpy as np\n",
    "import pandas as pd\n",
    "\n",
    "sys.path.append(\"..\")\n",
    "from utils.BALROG_pipeline import ROOTPATH"
   ]
  },
  {
   "cell_type": "code",
   "execution_count": 2,
   "metadata": {},
   "outputs": [],
   "source": [
    "df = pd.read_pickle(os.path.join(ROOTPATH, \"utils\", \"references\", \"database_reference.pkl\"))\n",
    "# Remove all images that are not of the class \"F\" (female) and that do not have a damaged wing\n",
    "df = df.loc[df[\"Sex\"] == \"F\"]\n",
    "df = df.loc[df[\"Damaged Wing\"] == False]\n",
    "\n",
    "# Only select Wings from the ConVector project and use 4. Taxonomic Level as the label\n",
    "df[\"LABEL\"] = df[\"4. Taxonomic Level\"]\n",
    "df_ref = df.loc[df[\"Project\"] == \"ConVector\"].copy()"
   ]
  },
  {
   "cell_type": "code",
   "execution_count": 3,
   "metadata": {},
   "outputs": [],
   "source": [
    "# Number of folds\n",
    "n_splits = 5\n",
    "random_seed = 42\n",
    "\n",
    "def create_testing_fold(df, new_column, n_splits, random_seed=42):\n",
    "    # Initialize the fold column\n",
    "    df[new_column] = np.nan\n",
    "\n",
    "    # Group data by \"Specimen ID\" and \"LABEL\" to ensure samples of the same specimen stay together\n",
    "    specimen_grouped = df.groupby(\"Specimen ID\").first().reset_index()\n",
    "\n",
    "    # Create a list of indices for each label group\n",
    "    label_groups = specimen_grouped.groupby(\"LABEL\")\n",
    "\n",
    "    # Create an empty dictionary to hold fold indices\n",
    "    folds = {i: [] for i in range(n_splits)}\n",
    "\n",
    "    # Create a random number generator with a fixed seed\n",
    "    rng = np.random.default_rng(random_seed)\n",
    "\n",
    "    # For each label group, assign specimens to folds\n",
    "    for label, group in label_groups:\n",
    "        indices = group.index.tolist()  # Get indices of specimens\n",
    "        rng.shuffle(indices)  # Shuffle indices for randomness (seeded)\n",
    "        splits = np.array_split(indices, n_splits)  # Split indices into roughly equal-sized folds\n",
    "        \n",
    "        # Assign each split to a fold\n",
    "        for i, split in enumerate(splits):\n",
    "            folds[i].extend(split)\n",
    "\n",
    "    # Map specimens back to their samples\n",
    "    specimen_to_fold = {}\n",
    "    for fold_idx, specimen_indices in folds.items():\n",
    "        for specimen_index in specimen_indices:\n",
    "            specimen_to_fold[specimen_grouped.loc[specimen_index, \"Specimen ID\"]] = fold_idx\n",
    "\n",
    "    # Assign fold numbers to the main dataframe\n",
    "    df[new_column] = df[\"Specimen ID\"].map(specimen_to_fold)\n",
    "    return df\n",
    "\n",
    "# Train on one device, test on the other, assign OOD samples to the testing fold\n",
    "df_device_trainphone = create_testing_fold(df_ref.copy(), \"TESTING FOLD\", n_splits, random_seed=random_seed)\n",
    "df_device_trainphone.loc[df_device_trainphone[\"Device\"] != \"macrolens + iphone se\", \"TESTING FOLD\"] = -1 \n",
    "\n",
    "df_device_trainolympus = create_testing_fold(df_ref.copy(), \"TESTING FOLD\", n_splits, random_seed=random_seed)\n",
    "df_device_trainolympus.loc[df_device_trainphone[\"Device\"] == \"macrolens + iphone se\", \"TESTING FOLD\"] = -1 \n",
    "\n",
    "# Assign OOD samples to the testing fold for the device experiment\n",
    "df_device_bias = create_testing_fold(df_ref.copy(), \"TESTING FOLD\", n_splits, random_seed=random_seed)\n",
    "df_device_bias.loc[(df_device_trainphone[\"Device\"] == \"macrolens + iphone se\") & (df_device_trainphone[\"LABEL\"] == \"aegypti\"), \"TESTING FOLD\"] = -1\n",
    "df_device_bias.loc[(df_device_trainphone[\"Device\"] == \"olympus sz61 + olympus dp23\") & (df_device_trainphone[\"LABEL\"] == \"albopictus\"), \"TESTING FOLD\"] = -1\n",
    "df_device_bias.loc[(df_device_trainphone[\"Device\"] == \"macrolens + iphone se\") & (df_device_trainphone[\"LABEL\"] == \"koreicus\"), \"TESTING FOLD\"] = -1\n",
    "df_device_bias.loc[(df_device_trainphone[\"Device\"] == \"olympus sz61 + olympus dp23\") & (df_device_trainphone[\"LABEL\"] == \"japonicus\"), \"TESTING FOLD\"] = -1 "
   ]
  },
  {
   "cell_type": "code",
   "execution_count": 4,
   "metadata": {},
   "outputs": [],
   "source": [
    "#df_device_trainphone.to_pickle(os.path.join(ROOTPATH, \"utils\", \"references\", \"database_reference_MLREADY_TrainPhone.pkl\")\n",
    "#df_device_trainolympus.to_pickle(os.path.join(ROOTPATH, \"utils\", \"references\", \"database_reference_MLREADY_TrainOlymp.pkl\")\n",
    "#df_device_bias.to_pickle(os.path.join(ROOTPATH, \"utils\", \"references\", \"database_reference_MLREADY_bias.pkl\")"
   ]
  }
 ],
 "metadata": {
  "kernelspec": {
   "display_name": "mosq",
   "language": "python",
   "name": "python3"
  },
  "language_info": {
   "codemirror_mode": {
    "name": "ipython",
    "version": 3
   },
   "file_extension": ".py",
   "mimetype": "text/x-python",
   "name": "python",
   "nbconvert_exporter": "python",
   "pygments_lexer": "ipython3",
   "version": "3.12.9"
  }
 },
 "nbformat": 4,
 "nbformat_minor": 2
}

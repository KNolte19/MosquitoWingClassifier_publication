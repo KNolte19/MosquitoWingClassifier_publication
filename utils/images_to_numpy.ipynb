{
 "cells": [
  {
   "cell_type": "code",
   "execution_count": 13,
   "metadata": {},
   "outputs": [],
   "source": [
    "import numpy as np \n",
    "import os\n",
    "import skimage.io as io\n",
    "from tqdm import tqdm\n",
    "import pandas as pd"
   ]
  },
  {
   "cell_type": "code",
   "execution_count": 63,
   "metadata": {},
   "outputs": [],
   "source": [
    "EXPERIMENT_NAME = \"TrainOlymp\"\n",
    "df_ref = pd.read_pickle(\"database_reference_MLREADY_{}.pkl\".format(EXPERIMENT_NAME))\n",
    "file_list = [os.path.join(\"data/pipeline/vanilla_images\", file.split(\".\")[0] + \".png\") for file in df_ref['File Name'].values]\n",
    "label_list = df_ref['LABEL'].values\n",
    "fold_list = df_ref['TESTING FOLD'].values\n",
    "path_list = df_ref[\"Files\"].values"
   ]
  },
  {
   "cell_type": "code",
   "execution_count": 64,
   "metadata": {},
   "outputs": [
    {
     "name": "stderr",
     "output_type": "stream",
     "text": [
      "100%|██████████| 3027/3027 [00:24<00:00, 124.20it/s]\n"
     ]
    }
   ],
   "source": [
    "image_ls, label_ls, fold_ls, path_ls = [], [], [], []\n",
    "for img in tqdm(file_list):\n",
    "    if img.endswith(\".png\"):\n",
    "        try:\n",
    "            image = io.imread(img)\n",
    "            image = np.array(image).astype(np.uint8)\n",
    "            image_ls.append(image)\n",
    "\n",
    "            label_ls.append(label_list[file_list.index(img)])\n",
    "            fold_ls.append(fold_list[file_list.index(img)])\n",
    "            path_ls.append(path_list[file_list.index(img)])\n",
    "\n",
    "        except Exception as e:\n",
    "            print(e, img)\n",
    "            continue\n",
    "\n",
    "image_arr = np.array(image_ls)\n",
    "label_arr = np.array(label_ls)\n",
    "fold_arr = np.array(fold_ls)\n",
    "path_arr = np.array(path_ls)"
   ]
  },
  {
   "cell_type": "code",
   "execution_count": 65,
   "metadata": {},
   "outputs": [],
   "source": [
    "np.save(\"data/pipeline/{}-images-vanilla.npy\".format(EXPERIMENT_NAME.lower()), image_arr)\n",
    "np.save(\"data/pipeline/{}-labels-vanilla.npy\".format(EXPERIMENT_NAME.lower()), label_arr)\n",
    "np.save(\"data/pipeline/{}-fold-vanilla.npy\".format(EXPERIMENT_NAME.lower()), fold_arr)\n",
    "np.save(\"data/pipeline/{}-path-vanilla.npy\".format(EXPERIMENT_NAME.lower()), path_ls)"
   ]
  },
  {
   "cell_type": "code",
   "execution_count": null,
   "metadata": {},
   "outputs": [],
   "source": []
  }
 ],
 "metadata": {
  "kernelspec": {
   "display_name": "fuck",
   "language": "python",
   "name": "python3"
  },
  "language_info": {
   "codemirror_mode": {
    "name": "ipython",
    "version": 3
   },
   "file_extension": ".py",
   "mimetype": "text/x-python",
   "name": "python",
   "nbconvert_exporter": "python",
   "pygments_lexer": "ipython3",
   "version": "3.10.12"
  }
 },
 "nbformat": 4,
 "nbformat_minor": 2
}
